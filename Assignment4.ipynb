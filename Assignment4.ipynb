{
 "cells": [
  {
   "cell_type": "code",
   "execution_count": 1,
   "id": "08c9f2c6",
   "metadata": {},
   "outputs": [
    {
     "name": "stdout",
     "output_type": "stream",
     "text": [
      "red\n"
     ]
    }
   ],
   "source": [
    "class Favourites:\n",
    "    color = \"\"\n",
    "    flavour = \"\"\n",
    "jonagold = Favourites()\n",
    "jonagold.color = \"red\"\n",
    "print(jonagold.color)"
   ]
  },
  {
   "cell_type": "code",
   "execution_count": 2,
   "id": "7cfc8f3a",
   "metadata": {},
   "outputs": [
    {
     "name": "stdout",
     "output_type": "stream",
     "text": [
      "blue\n",
      "mint\n"
     ]
    }
   ],
   "source": [
    "class Favourites:\n",
    "    color = \"\"\n",
    "    flavour = \"\"\n",
    "jonagold = Favourites()\n",
    "jonagold.color = \"blue\"\n",
    "jonagold.flavour = \"mint\"\n",
    "print(jonagold.color)\n",
    "print(jonagold.flavour)"
   ]
  },
  {
   "cell_type": "code",
   "execution_count": 3,
   "id": "df8059ee",
   "metadata": {},
   "outputs": [
    {
     "name": "stdout",
     "output_type": "stream",
     "text": [
      "Rose color is red\n",
      "Sunflower color is yellow\n"
     ]
    }
   ],
   "source": [
    "class Flower:\n",
    "    color = \"\"\n",
    "rose = Flower()\n",
    "rose.color = \"red\"\n",
    "\n",
    "sunflower = Flower()\n",
    "sunflower.color = \"yellow\"\n",
    "print(f\"Rose color is {rose.color}\")\n",
    "print(f\"Sunflower color is {sunflower.color}\")"
   ]
  },
  {
   "cell_type": "code",
   "execution_count": 5,
   "id": "9b866f46",
   "metadata": {},
   "outputs": [
    {
     "name": "stdout",
     "output_type": "stream",
     "text": [
      "Meaw I am chassi\n"
     ]
    }
   ],
   "source": [
    "class Cat:\n",
    "    name = \"\"\n",
    "    def speak(self):\n",
    "        print(f\"Meaw I am {self.name}\")\n",
    "myluna = Cat()\n",
    "myluna.name = \"chassi\"\n",
    "myluna.speak()"
   ]
  },
  {
   "cell_type": "code",
   "execution_count": 6,
   "id": "21d0a0a3",
   "metadata": {},
   "outputs": [
    {
     "name": "stdout",
     "output_type": "stream",
     "text": [
      "Meaw I am chassi\n",
      "Meaw I am bella\n"
     ]
    }
   ],
   "source": [
    "class Cat:\n",
    "    name = \"\"\n",
    "    def speak(self):\n",
    "        print(f\"Meaw I am {self.name}\")\n",
    "myluna = Cat()\n",
    "myluna.name = \"chassi\"\n",
    "myluna.speak()\n",
    "mybella = Cat()\n",
    "mybella.name = \"bella\"\n",
    "mybella.speak()"
   ]
  },
  {
   "cell_type": "code",
   "execution_count": 9,
   "id": "c388b372",
   "metadata": {},
   "outputs": [
    {
     "name": "stdout",
     "output_type": "stream",
     "text": [
      "0\n"
     ]
    }
   ],
   "source": [
    "class Cat:\n",
    "    age = 0\n",
    "    def age_(self):\n",
    "        return self.age * 6\n",
    "myluna = Cat()\n",
    "print(myluna.age_())"
   ]
  },
  {
   "cell_type": "code",
   "execution_count": 10,
   "id": "212de3c7",
   "metadata": {},
   "outputs": [
    {
     "name": "stdout",
     "output_type": "stream",
     "text": [
      "12\n"
     ]
    }
   ],
   "source": [
    "class Cat:\n",
    "    age = 0\n",
    "    def age_(self):\n",
    "        return self.age * 6\n",
    "myluna = Cat()\n",
    "myluna.age = 2\n",
    "print(myluna.age_())"
   ]
  },
  {
   "cell_type": "code",
   "execution_count": 13,
   "id": "7c5ef051",
   "metadata": {},
   "outputs": [
    {
     "name": "stdout",
     "output_type": "stream",
     "text": [
      "haseeb\n"
     ]
    }
   ],
   "source": [
    "class Apple:\n",
    "    def __init__(self,name,age):\n",
    "        self.name = name\n",
    "        self.age = age\n",
    "jonagold = Apple('haseeb',12)\n",
    "print(jonagold.name)\n"
   ]
  },
  {
   "cell_type": "code",
   "execution_count": 14,
   "id": "57c31757",
   "metadata": {},
   "outputs": [
    {
     "name": "stdout",
     "output_type": "stream",
     "text": [
      "haseeb\n",
      "Help on class Apple in module __main__:\n",
      "\n",
      "class Apple(builtins.object)\n",
      " |  Apple(name, age)\n",
      " |  \n",
      " |  This is a constructor class\n",
      " |  \n",
      " |  Methods defined here:\n",
      " |  \n",
      " |  __init__(self, name, age)\n",
      " |      Initialize self.  See help(type(self)) for accurate signature.\n",
      " |  \n",
      " |  ----------------------------------------------------------------------\n",
      " |  Data descriptors defined here:\n",
      " |  \n",
      " |  __dict__\n",
      " |      dictionary for instance variables (if defined)\n",
      " |  \n",
      " |  __weakref__\n",
      " |      list of weak references to the object (if defined)\n",
      "\n"
     ]
    }
   ],
   "source": [
    "class Apple:\n",
    "    '''This is a constructor class'''\n",
    "    def __init__(self,name,age):\n",
    "        self.name = name\n",
    "        self.age = age\n",
    "jonagold = Apple('haseeb',12)\n",
    "print(jonagold.name)\n",
    "help(Apple)"
   ]
  },
  {
   "cell_type": "code",
   "execution_count": 15,
   "id": "ee865c28",
   "metadata": {},
   "outputs": [
    {
     "name": "stdout",
     "output_type": "stream",
     "text": [
      "yellow\n"
     ]
    }
   ],
   "source": [
    "class Fruit:\n",
    "    color = \"yellow\"\n",
    "class Apple(Fruit):\n",
    "    color_ = \"pinks\"\n",
    "fav = Apple()\n",
    "print(fav.color)"
   ]
  },
  {
   "cell_type": "code",
   "execution_count": null,
   "id": "e40169c9",
   "metadata": {},
   "outputs": [],
   "source": []
  }
 ],
 "metadata": {
  "kernelspec": {
   "display_name": "Python 3 (ipykernel)",
   "language": "python",
   "name": "python3"
  },
  "language_info": {
   "codemirror_mode": {
    "name": "ipython",
    "version": 3
   },
   "file_extension": ".py",
   "mimetype": "text/x-python",
   "name": "python",
   "nbconvert_exporter": "python",
   "pygments_lexer": "ipython3",
   "version": "3.11.4"
  }
 },
 "nbformat": 4,
 "nbformat_minor": 5
}
